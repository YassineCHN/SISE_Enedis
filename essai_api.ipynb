{
 "cells": [
  {
   "cell_type": "markdown",
   "id": "55b64560",
   "metadata": {},
   "source": [
    "## Essai API ADEME AVEC PYTHON"
   ]
  },
  {
   "cell_type": "code",
   "execution_count": 2,
   "id": "12165128",
   "metadata": {},
   "outputs": [
    {
     "name": "stdout",
     "output_type": "stream",
     "text": [
      "Nombres de cp 91\n",
      "[69790 69170 69250 69380 69009 69008 69006 69007 69005 69001 69004 69002\n",
      " 69003 69780 69360 69124 69580 69720 69960 69320 69800 69140 69330 69970\n",
      " 69730 69740 69150 69680 69510 69390 69910 69100 69640 69770 69400 69430\n",
      " 69820 69460 69200 69120 69420 69670 69890 69620 69240 69160 69220 69440\n",
      " 69490 69700 69560 69590 69270 69870 69210 69850 69930 69690 69550 69650\n",
      " 69830 69290 69230 69610 69110 69190 69450 69370 69280 69470 69480 69530\n",
      " 69310 69600 69350 69860 69760 69840 69540 69520 69340 69130 69570 69660\n",
      " 69115 69260 69410 69630 69300 69500 69126]\n"
     ]
    },
    {
     "name": "stderr",
     "output_type": "stream",
     "text": [
      "C:\\Users\\ychen\\AppData\\Local\\Temp\\ipykernel_37648\\2248590103.py:10: DtypeWarning: Columns (9,16) have mixed types. Specify dtype option on import or set low_memory=False.\n",
      "  df_cp=pandas.read_csv(\"data/adresses-69.csv\",sep=\";\")\n"
     ]
    }
   ],
   "source": [
    "import requests as req\n",
    "import json\n",
    "import pandas as pandas\n",
    "import numpy as np\n",
    "\n",
    "# URL de base de l'API\n",
    "base_url = \"https://data.ademe.fr/data-fair/api/v1/datasets/dpe03existant/lines\"\n",
    "\n",
    "# Fichier des codes postaux \n",
    "df_cp=pandas.read_csv(\"data/adresses-69.csv\",sep=\";\")\n",
    "cp69=df_cp[\"code_postal\"].unique()\n",
    "print(\"Nombres de cp\",len(cp69))\n",
    "print(cp69)\n"
   ]
  },
  {
   "cell_type": "code",
   "execution_count": null,
   "id": "cd30f885",
   "metadata": {},
   "outputs": [],
   "source": [
    "# A tester et corriger \n",
    "# penser à filtrer par département + ANNEE_RECEPTION_DPE(ex pour 2024:date_reception_dpe:{2024-01-01 TO 2024-12-31})\n",
    "# En gros il faut boucler sur chaque département et pour chaque département boucler sur chaque année pour ce département\n",
    "for i in cp69 :\n",
    "    for j in range(2020,2025,1) :\n",
    "            #Paramètres de la requête\n",
    "            borne1= str(j)+\"-01-01\"\n",
    "            borne2= str(j)+\"-12-31\"\n",
    "            print(i)\n",
    "            print(borne1)\n",
    "            print(borne2)\n",
    "            params={\n",
    "            \"page\": 1,\n",
    "            \"size\": 5000,\n",
    "            \"select\": \"numero_dpe,date_reception_dpe,code_postal_ban,etiquette_dpe\",\n",
    "            \"q\": i,\n",
    "            \"q_fields\": \"code_postal_ban\",\n",
    "            \"qs\": f\"date_reception_dpe:{borne1} TO {borne2}\"\n",
    "            }\n",
    "            # Effectuer la requête GET avec les paramètres\n",
    "            response = req.get(base_url, params=params)\n",
    "            # Vérifier le statut de la réponse \n",
    "            print(f\"Statut de la réponse : {response.status_code}\")\n",
    "            # Si la requête a été effectuée avec succès, traiter le contenu\n",
    "            if response.status_code == 200 :\n",
    "                 # Charger le contenu de la réponse en JSON\n",
    "                 content = response.json()\n",
    "                 # Afficher le nombre total de lignes dans la base de données\n",
    "                 print(f\"Nombre total de lignes : {content['total']}\")\n",
    "                 # Afficher les données récupérées\n",
    "                 df = content['results']\n",
    "                 # Afficher les dimensions du DataFrame (nombre de lignes et de colonnes)\n",
    "                 print(f\"Dimensions des données récupérées : {len(df)}, {len(df[0]) if df else 0}\")\n",
    "                 # Si nécessaire, afficher les données\n",
    "                 print(df)\n",
    "            else:\n",
    "                 print(\"Erreur lors de la requête\")\n",
    "                 \n",
    "        \n",
    "        \n",
    "#write in csv\n"
   ]
  }
 ],
 "metadata": {
  "kernelspec": {
   "display_name": "base",
   "language": "python",
   "name": "python3"
  },
  "language_info": {
   "codemirror_mode": {
    "name": "ipython",
    "version": 3
   },
   "file_extension": ".py",
   "mimetype": "text/x-python",
   "name": "python",
   "nbconvert_exporter": "python",
   "pygments_lexer": "ipython3",
   "version": "3.12.4"
  }
 },
 "nbformat": 4,
 "nbformat_minor": 5
}
