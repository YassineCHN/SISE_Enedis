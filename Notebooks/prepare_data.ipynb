{
 "cells": [
  {
   "cell_type": "markdown",
   "id": "4f8adacf",
   "metadata": {},
   "source": [
    "## PREPARATION DES DONNEES POUR ANALYSE ET MODELISATION"
   ]
  },
  {
   "cell_type": "code",
   "execution_count": null,
   "id": "496cbd38",
   "metadata": {
    "vscode": {
     "languageId": "plaintext"
    }
   },
   "outputs": [],
   "source": []
  }
 ],
 "metadata": {
  "language_info": {
   "name": "python"
  }
 },
 "nbformat": 4,
 "nbformat_minor": 5
}
