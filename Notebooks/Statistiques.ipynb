{
 "cells": [
  {
   "cell_type": "markdown",
   "id": "10902834",
   "metadata": {},
   "source": [
    "## Statistiques générales"
   ]
  },
  {
   "cell_type": "code",
   "execution_count": null,
   "id": "d5ed237f",
   "metadata": {},
   "outputs": [],
   "source": [
    "#voir chap1"
   ]
  }
 ],
 "metadata": {
  "language_info": {
   "name": "python"
  }
 },
 "nbformat": 4,
 "nbformat_minor": 5
}
